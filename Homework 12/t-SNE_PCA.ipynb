{
 "cells": [
  {
   "cell_type": "code",
   "execution_count": null,
   "metadata": {},
   "outputs": [],
   "source": [
    "from sklearn import datasets\n",
    "from sklearn.decomposition import PCA\n",
    "from sklearn.manifold import TSNE\n",
    "import plotly.graph_objs as go\n",
    "import plotly\n",
    "\n",
    "\n",
    "iris = datasets.load_iris()\n",
    "target = iris.target\n",
    "result = TSNE(learning_rate=10, n_iter=5000, perplexity=30).fit_transform(iris.data)\n",
    "first = result[0:50]\n",
    "second = result[50:100]\n",
    "third = result[100:150]\n",
    "first_scatter = go.Scatter(x=first[:, 0], y=first[:, 1], mode = 'markers', name='Iris setosa')\n",
    "second_scatter = go.Scatter(x=second[:, 0], y=second[:, 1], mode = 'markers', name='Iris versicolor')\n",
    "third_scatter = go.Scatter(x=third[:, 0], y=third[:, 1], mode = 'markers', name='Iris virginica')\n",
    "plotly.offline.plot({\n",
    "    \"data\": [first_scatter, second_scatter, third_scatter],\n",
    "    \"layout\": go.Layout(title=\"t-SNE\")\n",
    "}, filename=\"t-SNE.html\")\n",
    "pca_result = PCA(n_components = 2).fit_transform(iris.data)\n",
    "first_pca = pca_result[0:50]\n",
    "second_pca = pca_result[50:100]\n",
    "third_pca = pca_result[100:150]\n",
    "first_scatter_pca = go.Scatter(x=first_pca[:, 0], y=first_pca[:, 1], mode = 'markers', name='Iris setosa')\n",
    "second_scatter_pca = go.Scatter(x=second_pca[:, 0], y=second_pca[:, 1], mode = 'markers', name='Iris versicolor')\n",
    "third_scatter_pca = go.Scatter(x=third_pca[:, 0], y=third_pca[:, 1], mode = 'markers', name='Iris virginica')\n",
    "plotly.offline.plot({\n",
    "    \"data\": [first_scatter_pca, second_scatter_pca, third_scatter_pca],\n",
    "    \"layout\": go.Layout(title=\"PCA\")\n",
    "}, filename=\"pca.html\")"
   ]
  },
  {
   "cell_type": "code",
   "execution_count": null,
   "metadata": {
    "collapsed": true
   },
   "outputs": [],
   "source": []
  }
 ],
 "metadata": {
  "kernelspec": {
   "display_name": "Python 3",
   "language": "python",
   "name": "python3"
  },
  "language_info": {
   "codemirror_mode": {
    "name": "ipython",
    "version": 3
   },
   "file_extension": ".py",
   "mimetype": "text/x-python",
   "name": "python",
   "nbconvert_exporter": "python",
   "pygments_lexer": "ipython3",
   "version": "3.6.1"
  }
 },
 "nbformat": 4,
 "nbformat_minor": 2
}
