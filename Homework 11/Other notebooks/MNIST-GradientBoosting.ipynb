{
 "cells": [
  {
   "cell_type": "code",
   "execution_count": 1,
   "metadata": {},
   "outputs": [
    {
     "name": "stdout",
     "output_type": "stream",
     "text": [
      "Downloading dataset...\n",
      "Fitting process... Please wait.\n",
      "Prediction process... \n",
      "Classification accuracy: 88.56%\n"
     ]
    }
   ],
   "source": [
    "from sklearn import datasets, metrics, model_selection, svm\n",
    "from sklearn.ensemble import GradientBoostingClassifier\n",
    "import os.path\n",
    "\n",
    "\n",
    "print('Downloading dataset...')\n",
    "mnist = datasets.fetch_mldata('MNIST original', data_home='D:\\\\dataset')\n",
    "sample_data, sample_target = mnist.data, mnist.target\n",
    "input_data = mnist.data/255.0 * 2 - 1\n",
    "train_input, test_input, train_output, test_output = \\\n",
    "    model_selection.train_test_split(input_data, mnist.target, test_size=1/7, random_state=0)\n",
    "classifier = GradientBoostingClassifier(n_estimators=20)\n",
    "print('Fitting process... Please wait.')\n",
    "classifier.fit(train_input, train_output)\n",
    "print('Prediction process... ')\n",
    "result = classifier.score(test_input, test_output)\n",
    "accuracy = float(result) * 100.0\n",
    "print('Classification accuracy: ' + str(accuracy) + '%')\n"
   ]
  },
  {
   "cell_type": "code",
   "execution_count": null,
   "metadata": {
    "collapsed": true
   },
   "outputs": [],
   "source": []
  }
 ],
 "metadata": {
  "kernelspec": {
   "display_name": "Python 3",
   "language": "python",
   "name": "python3"
  },
  "language_info": {
   "codemirror_mode": {
    "name": "ipython",
    "version": 3
   },
   "file_extension": ".py",
   "mimetype": "text/x-python",
   "name": "python",
   "nbconvert_exporter": "python",
   "pygments_lexer": "ipython3",
   "version": "3.6.3"
  }
 },
 "nbformat": 4,
 "nbformat_minor": 2
}
