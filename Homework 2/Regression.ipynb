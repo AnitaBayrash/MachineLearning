{
 "cells": [
  {
   "cell_type": "code",
   "execution_count": 1,
   "metadata": {},
   "outputs": [
    {
     "name": "stdout",
     "output_type": "stream",
     "text": [
      "Optimization terminated successfully.\n",
      "         Current function value: 208.953912  \n",
      "         Iterations: 138\n"
     ]
    },
    {
     "data": {
      "text/plain": [
       "'file://C:\\\\Users\\\\Анита\\\\temp-plot.html'"
      ]
     },
     "execution_count": 1,
     "metadata": {},
     "output_type": "execute_result"
    }
   ],
   "source": [
    "import csv\n",
    "import numpy\n",
    "import plotly\n",
    "from scipy.optimize import linprog\n",
    "from plotly.graph_objs import Scatter, Layout\n",
    "\n",
    "\n",
    "def read_data(file_path):\n",
    "    matrix = list()\n",
    "    vector = list()\n",
    "    with open(file_path, newline='') as file:\n",
    "        reader = csv.reader(file, delimiter=',', quotechar='|')\n",
    "        next(reader)\n",
    "        for row in reader:\n",
    "            matrix_row = list()\n",
    "            for i in range(0, 4):\n",
    "                matrix_row.append(float(row[i]))\n",
    "            matrix.append(matrix_row)\n",
    "            vector.append(float(row[4]))\n",
    "    return [matrix, vector]\n",
    "\n",
    "\n",
    "def find_mean_square_error(result_vector, output_vector):\n",
    "    size = numpy.matrix(result_vector).shape[0]\n",
    "    difference = numpy.power(numpy.matrix(result_vector - output_vector), 2)\n",
    "    return  numpy.sum(difference, axis=None) / size\n",
    "\n",
    "\n",
    "def compose_matrix(matrix):\n",
    "    dimension = len(matrix[0])\n",
    "    size = len(matrix)\n",
    "    identity_minus = -numpy.identity(size)\n",
    "    weight_matrix = numpy.matrix(matrix)\n",
    "    first_part = numpy.concatenate((weight_matrix, identity_minus), axis = 1)\n",
    "    second_part = numpy.concatenate((-weight_matrix, identity_minus), axis = 1)\n",
    "    matrix_result = numpy.concatenate((first_part, second_part), axis=0)\n",
    "    return matrix_result\n",
    "\n",
    "\n",
    "def solve_linear(matrix, vector, tolerance):\n",
    "    X_values = numpy.matrix(matrix)\n",
    "    dimension = len(matrix[0])\n",
    "    size = len(matrix)\n",
    "    weight_bounds = (None, None)\n",
    "    a_bounds = (0.0, None)\n",
    "    list_bounds = dimension * [weight_bounds] + size * [a_bounds]\n",
    "    vector_b = numpy.concatenate((numpy.array(vector), -numpy.array(vector)))\n",
    "    matrix_A = compose_matrix(matrix).tolist()\n",
    "    vector_c = dimension * [0] + size * [1]\n",
    "    res = linprog(vector_c, A_ub=matrix_A, b_ub=vector_b, bounds=list_bounds,\n",
    "                  options={\"disp\": True, \"bland\": True, \"tol\": tolerance})\n",
    "    weights = res.x[:4]\n",
    "    y_results = list()\n",
    "    for i in range(0, size):\n",
    "        y_real = 0.0\n",
    "        for j in range(0, dimension):\n",
    "            y_real = y_real + weights[j] * matrix[i][j]\n",
    "        y_results.append(y_real)\n",
    "    return y_results\n",
    "\n",
    "\n",
    "def solve_SVD(X, y, dim, coefficient):\n",
    "    U, S, V_transposed = numpy.linalg.svd(X, full_matrices=False)\n",
    "    V = numpy.matrix(V_transposed).transpose()\n",
    "    D = numpy.zeros((dim, dim))\n",
    "    for idx in range(0, dim):\n",
    "        D[idx, idx] = (S[idx] ** 2) / ((S[idx] ** 2) + coefficient)\n",
    "    first = numpy.dot(V, D)\n",
    "    sec = numpy.dot(first, V_transposed)\n",
    "    y_real = numpy.dot(sec, y)\n",
    "    return y_real\n",
    "\n",
    "\n",
    "[matrix, vector] = read_data('D:\\\\basketball.csv')\n",
    "x_coeficients = list(range(0, len(vector)))\n",
    "tolerance = 0.001\n",
    "linear_results = solve_linear(matrix, vector, tolerance)\n",
    "\n",
    "X = numpy.matrix(matrix).transpose()\n",
    "dim = X.shape[0]\n",
    "size = X.shape[1]\n",
    "y = numpy.matrix(vector).transpose()\n",
    "tau_coefficient = 0.4\n",
    "SVD_results = solve_SVD(X, y, dim, tau_coefficient)\n",
    "\n",
    "square_error = find_mean_square_error(SVD_results, y)\n",
    "errors = list()\n",
    "coefficients = numpy.arange(0.0, 0.6, 0.001)\n",
    "for coefficient in coefficients:\n",
    "    y_real = solve_SVD(X, y, dim, coefficient)\n",
    "    square_error = find_mean_square_error(y_real, y)\n",
    "    errors.append(square_error)\n",
    "\n",
    "trace = Scatter(\n",
    "        x=coefficients,\n",
    "        y=errors\n",
    "    )\n",
    "plotly.offline.plot([trace])"
   ]
  },
  {
   "cell_type": "code",
   "execution_count": null,
   "metadata": {
    "collapsed": true
   },
   "outputs": [],
   "source": []
  }
 ],
 "metadata": {
  "kernelspec": {
   "display_name": "Python 3",
   "language": "python",
   "name": "python3"
  },
  "language_info": {
   "codemirror_mode": {
    "name": "ipython",
    "version": 3
   },
   "file_extension": ".py",
   "mimetype": "text/x-python",
   "name": "python",
   "nbconvert_exporter": "python",
   "pygments_lexer": "ipython3",
   "version": "3.6.1"
  }
 },
 "nbformat": 4,
 "nbformat_minor": 2
}
